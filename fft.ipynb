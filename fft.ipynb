{
 "cells": [
  {
   "cell_type": "markdown",
   "metadata": {},
   "source": [
    "## Брагина Анна Анатольевна, 427\n",
    "### Задание 1.1\n",
    "**Постановка задачи:**\n",
    "Необходимо выполнить прямое быстрое преобразование Фурье:\n",
    "$$U(k)=\\frac{1}{N}\\sum\\limits_{j=0}^{N-1} u(j)W_N^{-kj}$$\n",
    "И обратное преобразование Фурье:\n",
    "$$u(j)=\\sum\\limits_{k=0}^{N-1} U(k)W_N^{kj}$$\n",
    "По условию заданы четыре действительных отсчета."
   ]
  },
  {
   "cell_type": "markdown",
   "metadata": {},
   "source": [
    "1) Импортирую необходимые библиотеки. Я буду пользоваться функциями **numpy.fft.fft** для БПФ и **numpy.fft.ifft** для обратного БПФ, поскольку наши расчеты достаточно простые и не требуют более точных вычислений, для которых лучше пользоваться библиотекой scipy"
   ]
  },
  {
   "cell_type": "code",
   "execution_count": 1,
   "metadata": {},
   "outputs": [],
   "source": [
    "import numpy as np\n",
    "import matplotlib.pyplot as plt\n",
    "from numpy.fft import fft as fft_np, ifft as ifft_np\n",
    "n=4"
   ]
  },
  {
   "cell_type": "markdown",
   "metadata": {},
   "source": [
    "2) Задаю массив входных данных, который соответствует моим ФИО"
   ]
  },
  {
   "cell_type": "code",
   "execution_count": 2,
   "metadata": {},
   "outputs": [],
   "source": [
    "u = np.array([2,1,1,50],dtype=np.complex)"
   ]
  },
  {
   "cell_type": "markdown",
   "metadata": {},
   "source": [
    "3) Вычислим частоты спектра. Для этого воспользуюсь функцией **np.fft.fftfreq**, которая возвращает безразмерные частоты. С помощью функции **np.fft.fftshift** поместим нулевую частоту в центр спектра"
   ]
  },
  {
   "cell_type": "code",
   "execution_count": 3,
   "metadata": {},
   "outputs": [
    {
     "name": "stdout",
     "output_type": "stream",
     "text": [
      "[-0.5  -0.25  0.    0.25]\n"
     ]
    }
   ],
   "source": [
    "freq = np.fft.fftshift(np.fft.fftfreq(n))\n",
    "print(freq)"
   ]
  },
  {
   "cell_type": "markdown",
   "metadata": {},
   "source": [
    "4) Выполняю прямое БПФ и вывожу полученные гармоники"
   ]
  },
  {
   "cell_type": "code",
   "execution_count": 4,
   "metadata": {},
   "outputs": [
    {
     "name": "stdout",
     "output_type": "stream",
     "text": [
      "[-48. +0.j   1.-49.j  54. +0.j   1.+49.j]\n"
     ]
    }
   ],
   "source": [
    "fft=np.fft.fftshift(fft_np(u))\n",
    "print(fft) "
   ]
  },
  {
   "cell_type": "markdown",
   "metadata": {},
   "source": [
    "5) Выполняю обратное преобразование Фурье"
   ]
  },
  {
   "cell_type": "code",
   "execution_count": 5,
   "metadata": {},
   "outputs": [
    {
     "name": "stdout",
     "output_type": "stream",
     "text": [
      "[ 2.+0.j  1.+0.j  1.+0.j 50.+0.j]\n"
     ]
    }
   ],
   "source": [
    "ifft=np.fft.ifft(np.fft.ifftshift(fft))\n",
    "print(ifft) "
   ]
  },
  {
   "cell_type": "markdown",
   "metadata": {},
   "source": [
    "_Как видно, обратное БПФ верно восстанавливает массив входных данных_"
   ]
  },
  {
   "cell_type": "markdown",
   "metadata": {},
   "source": [
    "**График спектра прямого БПФ**"
   ]
  },
  {
   "cell_type": "code",
   "execution_count": 6,
   "metadata": {},
   "outputs": [
    {
     "data": {
      "image/png": "[encoded data removed]",
      "text/plain": [
       "<Figure size 600x400 with 1 Axes>"
      ]
     },
     "metadata": {
      "needs_background": "light"
     },
     "output_type": "display_data"
    }
   ],
   "source": [
    "plt.figure(dpi=100)\n",
    "plt.scatter(freq,np.abs(fft))\n",
    "plt.grid()\n",
    "plt.xlabel(\"k\")\n",
    "plt.ylabel(\"U(k)\")\n",
    "plt.show()"
   ]
  },
  {
   "cell_type": "markdown",
   "metadata": {},
   "source": [
    "**График данных, восстановленных из спектра с помощью обратного БПФ**"
   ]
  },
  {
   "cell_type": "code",
   "execution_count": 7,
   "metadata": {},
   "outputs": [
    {
     "data": {
      "image/png": "[encoded data removed]",
      "text/plain": [
       "<Figure size 600x400 with 1 Axes>"
      ]
     },
     "metadata": {
      "needs_background": "light"
     },
     "output_type": "display_data"
    }
   ],
   "source": [
    "plt.figure(dpi=100)\n",
    "plt.scatter([0,1,2,3], np.abs(ifft))\n",
    "plt.grid()\n",
    "plt.xlabel(\"j\")\n",
    "plt.ylabel(\"u(j)\")\n",
    "plt.show()"
   ]
  }
 ],
 "metadata": {
  "kernelspec": {
   "display_name": "Python 3",
   "language": "python",
   "name": "python3"
  },
  "language_info": {
   "codemirror_mode": {
    "name": "ipython",
    "version": 3
   },
   "file_extension": ".py",
   "mimetype": "text/x-python",
   "name": "python",
   "nbconvert_exporter": "python",
   "pygments_lexer": "ipython3",
   "version": "3.7.4"
  }
 },
 "nbformat": 4,
 "nbformat_minor": 2
}
